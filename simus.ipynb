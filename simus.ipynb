{
 "cells": [
  {
   "cell_type": "code",
   "execution_count": 38,
   "metadata": {},
   "outputs": [],
   "source": [
    "import numpy as np\n",
    "import matplotlib.pyplot as plt\n",
    "import matplotlib.colors as clrs\n",
    "import matplotlib.transforms as transforms\n",
    "from rewards import *\n",
    "from utils import *\n",
    "from strategies import *\n",
    "import warnings\n",
    "warnings.filterwarnings('ignore')\n",
    "import time\n",
    "from tqdm import tqdm"
   ]
  },
  {
   "cell_type": "code",
   "execution_count": 39,
   "metadata": {},
   "outputs": [],
   "source": [
    "# plot parameters\n",
    "plt.rcParams.update({\n",
    "    \"font.family\": \"serif\",  # use serif/main font for text elements\n",
    "    \"text.usetex\": True,     # use inline math for ticks\n",
    "    \"pgf.rcfonts\": False,    # don't setup fonts from rc parameters\n",
    "    \"pgf.preamble\": [\n",
    "         \"\\\\usepackage{units}\",          # load additional packages\n",
    "         \"\\\\usepackage{metalogo}\",\n",
    "         \"\\\\usepackage{unicode-math}\",   # unicode math setup\n",
    "         r\"\\setmathfont{xits-math.otf}\",\n",
    "         r\"\\setmainfont{DejaVu Serif}\",  # serif font via preamble\n",
    "         ]\n",
    "})"
   ]
  },
  {
   "cell_type": "code",
   "execution_count": 40,
   "metadata": {},
   "outputs": [],
   "source": [
    "# algo names for legend\n",
    "algonames = {'UnknownDistribution': 'Known reward',\n",
    "             'Monotone': 'Non-decreasing',\n",
    "             'NaiveStrategy': 'Naive',\n",
    "             'Bandit': 'Bandit'\n",
    "            }"
   ]
  },
  {
   "cell_type": "markdown",
   "metadata": {},
   "source": [
    "# Expe 1: linear reward"
   ]
  },
  {
   "cell_type": "code",
   "execution_count": 47,
   "metadata": {},
   "outputs": [],
   "source": [
    "expe = 1\n",
    "\n",
    "# problem parameters\n",
    "rew = affineReward(dirCoef=1, originOrd=-0.5)\n",
    "maxride = 3\n",
    "ridedistribution = uniformRide(maxval=maxride)\n",
    "rate = 1\n",
    "beta, L = rew.holder(maxride=maxride)\n",
    "\n",
    "t = np.linspace(0, maxride, 10000)\n",
    "maxrew = np.max(rew.eval(t))\n",
    "minrew = np.min(rew.eval(t))\n",
    "\n",
    "# simulation parameters\n",
    "ninstances = 50\n",
    "horizons = np.geomspace(1000, 1000000, 20, dtype=int)\n",
    "noise = uniformNoise(1)\n",
    "\n",
    "scores = {}\n",
    "algos = {}\n",
    "for horizon in horizons:\n",
    "    algos[horizon] = [UnknownDistribution_RBT(rew, maxrew=maxrew, delta=1/horizon, minrew=minrew),\n",
    "                     Bandit_RBT(horizon=horizon, L=L, beta=beta, rate=1, maxride=maxride, maxrew=maxrew, minrew=minrew, var=noise.var, kappa=0.5),\n",
    "                     Monotone(horizon=horizon, rate=1, maxride=maxride, maxrew=maxrew, minrew=minrew, var=noise.var),\n",
    "                     NaiveStrategy()\n",
    "                     ]\n",
    "    for algo in algos[horizon]:\n",
    "        if algo.name==\"Monotone\":\n",
    "            algo.sigma /= 60"
   ]
  },
  {
   "cell_type": "code",
   "execution_count": 48,
   "metadata": {},
   "outputs": [],
   "source": [
    "# load previous results\n",
    "scores = {}\n",
    "for horizon in horizons:\n",
    "    scores[horizon] = {}\n",
    "    for algo in algos[horizon]:\n",
    "        try:\n",
    "            scores[horizon][algo.name] = list(np.load('scores/{}/scores_{}_{}_{}_{}_{}.npy'.format(expe, algo.name, horizon, rew.name, ridedistribution.name, noise.name)))\n",
    "        except FileNotFoundError:\n",
    "            scores[horizon][algo.name] = []"
   ]
  },
  {
   "cell_type": "code",
   "execution_count": 6,
   "metadata": {},
   "outputs": [
    {
     "name": "stderr",
     "output_type": "stream",
     "text": [
      "UnknownDistribution with horizon 1000000: 100%|██████████| 280/280 [8:11:28<00:00, 105.28s/it]\n"
     ]
    }
   ],
   "source": [
    "try:\n",
    "    for horizon in horizons:\n",
    "        for algo in algos[horizon]:\n",
    "            if ninstances>len(scores[horizon][algo.name]):\n",
    "                for _ in tqdm(range(ninstances-len(scores[horizon][algo.name])), desc=\"{} with horizon {}\".format(algo.name, horizon)):\n",
    "                    algo.reset()\n",
    "                    r = simu(rew, ridedistribution, algo, rate=1, horizon=horizon)\n",
    "                    scores[horizon][algo.name].append(r)\n",
    "\n",
    "                # also save the scores if we ran the whole algorithm without interrupting\n",
    "                np.save('scores/{}/scores_{}_{}_{}_{}_{}.npy'.format(expe, algo.name, horizon, rew.name, ridedistribution.name, noise.name), scores[horizon][algo.name])\n",
    "\n",
    "except KeyboardInterrupt:\n",
    "    # save in case of interruption\n",
    "    print('Number of tries ran for {}, horizon={} : {}'.format(algo.name, horizon, len(scores[horizon][algo.name])))\n",
    "    np.save('scores/{}/scores_{}_{}_{}_{}_{}.npy'.format(expe, algo.name, horizon, rew.name, ridedistribution.name, noise.name), scores[horizon][algo.name])\n"
   ]
  },
  {
   "cell_type": "markdown",
   "metadata": {},
   "source": [
    "## Plot regret"
   ]
  },
  {
   "cell_type": "code",
   "execution_count": 23,
   "metadata": {},
   "outputs": [],
   "source": [
    "samples = ridedistribution.simu(int(1e8))\n",
    "rewards = rew.eval(samples)\n",
    "cstar = profOpt(rewards, samples, rate=rate, precision=1e-15)"
   ]
  },
  {
   "cell_type": "code",
   "execution_count": 49,
   "metadata": {},
   "outputs": [],
   "source": [
    "#confidence = {}\n",
    "regret = {}\n",
    "for algo in algos[horizons[0]]:\n",
    "    regret[algo.name] = np.zeros_like(horizons, dtype=float)\n",
    "    confidence[algo.name] = np.zeros_like(horizons, dtype=float)\n",
    "    for i, horizon in enumerate(horizons):\n",
    "        regret[algo.name][i] = np.maximum(0, cstar*horizon - np.mean(scores[horizon][algo.name][:ninstances]))\n",
    "        #confidence[algo.name][i] = 1.96*np.std(scores[horizon][algo.name][:ninstances])/np.sqrt(len(scores[horizon][algo.name][:ninstances])) # 95% confidence interval"
   ]
  },
  {
   "cell_type": "code",
   "execution_count": 50,
   "metadata": {},
   "outputs": [
    {
     "data": {
      "image/png": "[encoded data removed]",
      "text/plain": [
       "<Figure size 504x288 with 1 Axes>"
      ]
     },
     "metadata": {},
     "output_type": "display_data"
    }
   ],
   "source": [
    "# plot evolution of regret\n",
    "fig = plt.figure(figsize=(7,4))\n",
    "ls = ['--', '-', '-.', ':']\n",
    "for i,algo in enumerate(algos[horizons[0]]):\n",
    "    name = algonames.get(algo.name,algo.name)\n",
    "    plt.plot(horizons, regret[algo.name], ls[i], label=name, marker='+')\n",
    "    #plt.fill_between(horizons, (regret[algo.name]-confidence[algo.name]), (regret[algo.name]+confidence[algo.name]), color='b', alpha=.1)\n",
    "plt.xlabel('$T$', fontsize=12)\n",
    "plt.xscale('log')\n",
    "plt.yscale('symlog')\n",
    "plt.ylabel('Regret', fontsize=12)\n",
    "plt.grid(alpha=0.5)\n",
    "plt.legend(fontsize=14, loc='upper left').set_zorder(1.5)\n",
    "plt.tight_layout()\n",
    "plt.savefig('figures/regret_{}_{}_{}_{}.pgf'.format(rew.name, ridedistribution.name, noise.name, expe))\n",
    "plt.show()"
   ]
  },
  {
   "cell_type": "markdown",
   "metadata": {},
   "source": [
    "UnknownDistribution has almost no regret here because the profitability function has good regularities, which leads to a way smaller regret than the minimax $\\sqrt{T}$ one.\n",
    "It should actually scale in $\\log(T)$ because of margin constraints here."
   ]
  },
  {
   "cell_type": "markdown",
   "metadata": {},
   "source": [
    "# Expe 2: concave reward"
   ]
  },
  {
   "cell_type": "code",
   "execution_count": 51,
   "metadata": {},
   "outputs": [],
   "source": [
    "expe = 2\n",
    "\n",
    "# problem parameters\n",
    "rew = concaveReward2(a=1, b=0.2, c=0.3)\n",
    "maxride = 3\n",
    "ridedistribution = uniformRide(maxval=maxride)\n",
    "rate = 1\n",
    "beta, L = rew.holder(maxride=maxride)\n",
    "\n",
    "t = np.linspace(0, maxride, 10000)\n",
    "maxrew = np.max(rew.eval(t))\n",
    "minrew = np.min(rew.eval(t))\n",
    "\n",
    "# simulation parameters\n",
    "ninstances = 50\n",
    "horizons = np.geomspace(1000, 1000000, 20, dtype=int)\n",
    "noise = gaussianNoise(0.1)\n",
    "\n",
    "scores = {}\n",
    "algos = {}\n",
    "for horizon in horizons:\n",
    "    algos[horizon] = [UnknownDistribution_RBT(rew, maxrew=maxrew, delta=1/horizon, minrew=minrew),\n",
    "                     Bandit_RBT(horizon=horizon, L=L, beta=beta, rate=1, maxride=maxride, maxrew=maxrew, minrew=minrew, var=noise.var, kappa=0.5),\n",
    "                     NaiveStrategy()\n",
    "                     ]"
   ]
  },
  {
   "cell_type": "code",
   "execution_count": 52,
   "metadata": {},
   "outputs": [],
   "source": [
    "# load previous results\n",
    "scores = {}\n",
    "for horizon in horizons:\n",
    "    scores[horizon] = {}\n",
    "    for algo in algos[horizon]:\n",
    "        try:\n",
    "            scores[horizon][algo.name] = list(np.load('scores/{}/scores_{}_{}_{}_{}_{}.npy'.format(expe, algo.name, horizon, rew.name, ridedistribution.name, noise.name)))\n",
    "        except FileNotFoundError:\n",
    "            scores[horizon][algo.name] = []"
   ]
  },
  {
   "cell_type": "code",
   "execution_count": null,
   "metadata": {},
   "outputs": [
    {
     "name": "stderr",
     "output_type": "stream",
     "text": [
      "UnknownDistribution with horizon 1000000:  99%|█████████▉| 140/141 [5:54:50<02:50, 170.41s/it]"
     ]
    }
   ],
   "source": [
    "try:\n",
    "    for horizon in horizons:\n",
    "        for algo in algos[horizon]:\n",
    "            if ninstances>len(scores[horizon][algo.name]):\n",
    "                for _ in tqdm(range(ninstances-len(scores[horizon][algo.name])), desc=\"{} with horizon {}\".format(algo.name, horizon)):\n",
    "                    algo.reset()\n",
    "                    r = simu(rew, ridedistribution, algo, rate=1, horizon=horizon)\n",
    "                    scores[horizon][algo.name].append(r)\n",
    "\n",
    "                # also save the scores if we ran the whole algorithm without interrupting\n",
    "                np.save('scores/{}/scores_{}_{}_{}_{}_{}.npy'.format(expe, algo.name, horizon, rew.name, ridedistribution.name, noise.name), scores[horizon][algo.name])\n",
    "\n",
    "except KeyboardInterrupt:\n",
    "    # save in case of interruption\n",
    "    print('Number of tries ran for {}, horizon={} : {}'.format(algo.name, horizon, len(scores[horizon][algo.name])))\n",
    "    np.save('scores/{}/scores_{}_{}_{}_{}_{}.npy'.format(expe, algo.name, horizon, rew.name, ridedistribution.name, noise.name), scores[horizon][algo.name])\n"
   ]
  },
  {
   "cell_type": "markdown",
   "metadata": {},
   "source": [
    "## Plot regret"
   ]
  },
  {
   "cell_type": "code",
   "execution_count": 53,
   "metadata": {},
   "outputs": [],
   "source": [
    "samples = ridedistribution.simu(int(1e8))\n",
    "rewards = rew.eval(samples)\n",
    "cstar = profOpt(rewards, samples, rate=rate, precision=1e-15)"
   ]
  },
  {
   "cell_type": "code",
   "execution_count": null,
   "metadata": {},
   "outputs": [],
   "source": [
    "\n",
    "for algo in algos[horizons[0]]:\n",
    "    regret[algo.name] = np.zeros_like(horizons, dtype=float)\n",
    "    for i, horizon in enumerate(horizons):\n",
    "        regret[algo.name][i] = max(0,cstar*horizon - np.mean(scores[horizon][algo.name][:ninstances]))"
   ]
  },
  {
   "cell_type": "code",
   "execution_count": 54,
   "metadata": {},
   "outputs": [
    {
     "data": {
      "image/png": "[encoded data removed]",
      "text/plain": [
       "<Figure size 432x288 with 1 Axes>"
      ]
     },
     "metadata": {},
     "output_type": "display_data"
    }
   ],
   "source": [
    "# plot evolution of regret\n",
    "fig = plt.figure()\n",
    "ls = ['--', '-', '-.', ':']\n",
    "for i,algo in enumerate(algos[horizons[0]]):\n",
    "    name = algonames.get(algo.name,algo.name)\n",
    "    plt.plot(horizons, regret[algo.name], ls[i], label=name, marker='+')\n",
    "plt.xlabel('$T$', fontsize=12)\n",
    "plt.ylabel('Regret', fontsize=12)\n",
    "plt.xscale('log')\n",
    "plt.yscale('symlog')\n",
    "plt.legend(fontsize=14).set_zorder(1.5)\n",
    "plt.grid(alpha=0.5)\n",
    "plt.tight_layout()\n",
    "fig.savefig('figures/regret_{}_{}_{}_{}.pgf'.format(rew.name, ridedistribution.name, noise.name, expe))\n",
    "plt.show()"
   ]
  },
  {
   "cell_type": "markdown",
   "metadata": {},
   "source": [
    "# Expe 3: concave reward and discrete ride distribution"
   ]
  },
  {
   "cell_type": "code",
   "execution_count": 15,
   "metadata": {},
   "outputs": [],
   "source": [
    "expe = 3\n",
    "\n",
    "# problem parameters\n",
    "rew = concaveReward2(a=1, b=0.2, c=0.3)\n",
    "maxride = 3\n",
    "K = 20\n",
    "ridedistribution = uniformRide(maxval=maxride, discrete=True, K=K)\n",
    "rate = 1\n",
    "beta, L = rew.holder(maxride=maxride)\n",
    "\n",
    "t = np.linspace(0, maxride, 10000)\n",
    "maxrew = np.max(rew.eval(t))\n",
    "minrew = np.min(rew.eval(t))\n",
    "\n",
    "# simulation parameters\n",
    "ninstances = 50\n",
    "horizons = np.geomspace(1000, 1000000, 20, dtype=int)\n",
    "noise = gaussianNoise(0.1)\n",
    "\n",
    "scores = {}\n",
    "algos = {}\n",
    "for horizon in horizons:\n",
    "    algos[horizon] = [UnknownDistribution_RBT(rew, maxrew=maxrew, delta=1/horizon, minrew=minrew),\n",
    "                     Bandit_RBT(horizon=horizon, L=L, beta=beta, rate=1, maxride=maxride, maxrew=maxrew, minrew=minrew, var=noise.var, kappa=0.5),\n",
    "                     NaiveStrategy(),\n",
    "                     FiniteBandit_RBT(horizon=horizon, X=ridedistribution.support, rate=1, maxrew=maxrew, minrew=minrew, var=noise.var)\n",
    "                     ]"
   ]
  },
  {
   "cell_type": "code",
   "execution_count": 16,
   "metadata": {},
   "outputs": [],
   "source": [
    "# load previous results\n",
    "scores = {}\n",
    "for horizon in horizons:\n",
    "    scores[horizon] = {}\n",
    "    for algo in algos[horizon]:\n",
    "        try:\n",
    "            scores[horizon][algo.name] = list(np.load('scores/{}/scores_{}_{}_{}_{}_{}.npy'.format(expe, algo.name, horizon, rew.name, ridedistribution.name, noise.name)))\n",
    "        except FileNotFoundError:\n",
    "            scores[horizon][algo.name] = []"
   ]
  },
  {
   "cell_type": "code",
   "execution_count": 17,
   "metadata": {},
   "outputs": [],
   "source": [
    "try:\n",
    "    for horizon in horizons:\n",
    "        for algo in algos[horizon]:\n",
    "            if ninstances>len(scores[horizon][algo.name]):\n",
    "                for _ in tqdm(range(ninstances-len(scores[horizon][algo.name])), desc=\"{} with horizon {}\".format(algo.name, horizon)):\n",
    "                    algo.reset()\n",
    "                    r = simu(rew, ridedistribution, algo, rate=1, horizon=horizon)\n",
    "                    scores[horizon][algo.name].append(r)\n",
    "\n",
    "                # also save the scores if we ran the whole algorithm without interrupting\n",
    "                np.save('scores/{}/scores_{}_{}_{}_{}_{}.npy'.format(expe, algo.name, horizon, rew.name, ridedistribution.name, noise.name), scores[horizon][algo.name])\n",
    "\n",
    "except KeyboardInterrupt:\n",
    "    # save in case of interruption\n",
    "    print('Number of tries ran for {}, horizon={} : {}'.format(algo.name, horizon, len(scores[horizon][algo.name])))\n",
    "    np.save('scores/{}/scores_{}_{}_{}_{}_{}.npy'.format(expe, algo.name, horizon, rew.name, ridedistribution.name, noise.name), scores[horizon][algo.name])\n"
   ]
  },
  {
   "cell_type": "markdown",
   "metadata": {},
   "source": [
    "## Plot regret"
   ]
  },
  {
   "cell_type": "code",
   "execution_count": 18,
   "metadata": {},
   "outputs": [],
   "source": [
    "regret = {}\n",
    "samples = ridedistribution.simu(int(1e8))\n",
    "rewards = rew.eval(samples)\n",
    "cstar = profOpt(rewards, samples, rate=rate, precision=1e-15)\n",
    "for algo in algos[horizons[0]]:\n",
    "    regret[algo.name] = np.zeros_like(horizons)\n",
    "    for i, horizon in enumerate(horizons):\n",
    "        regret[algo.name][i] = max(0,cstar*horizon - np.mean(scores[horizon][algo.name][:ninstances]))"
   ]
  },
  {
   "cell_type": "code",
   "execution_count": 19,
   "metadata": {},
   "outputs": [
    {
     "data": {
      "image/png": "[encoded data removed]",
      "text/plain": [
       "<Figure size 432x288 with 1 Axes>"
      ]
     },
     "metadata": {},
     "output_type": "display_data"
    }
   ],
   "source": [
    "# plot evolution of regret\n",
    "fig = plt.figure()\n",
    "ls = ['--', '-', '-.', ':']\n",
    "for i,algo in enumerate(algos[horizons[0]]):\n",
    "    name = algonames.get(algo.name,algo.name)\n",
    "    plt.plot(horizons, regret[algo.name], ls[i], label=name, marker='+')\n",
    "plt.xlabel('$T$', fontsize=12)\n",
    "plt.ylabel('Regret', fontsize=12)\n",
    "plt.xscale('log')\n",
    "plt.yscale('symlog')\n",
    "plt.legend(fontsize=14, loc='upper left').set_zorder(1.5)\n",
    "plt.grid(alpha=0.5)\n",
    "plt.tight_layout()\n",
    "plt.savefig('figures/regret_{}_{}_{}_{}.pgf'.format(rew.name, ridedistribution.name, noise.name, expe))\n",
    "plt.show()"
   ]
  },
  {
   "cell_type": "code",
   "execution_count": null,
   "metadata": {},
   "outputs": [],
   "source": []
  },
  {
   "cell_type": "code",
   "execution_count": null,
   "metadata": {},
   "outputs": [],
   "source": []
  }
 ],
 "metadata": {
  "kernelspec": {
   "display_name": "Python 3",
   "language": "python",
   "name": "python3"
  },
  "language_info": {
   "codemirror_mode": {
    "name": "ipython",
    "version": 3
   },
   "file_extension": ".py",
   "mimetype": "text/x-python",
   "name": "python",
   "nbconvert_exporter": "python",
   "pygments_lexer": "ipython3",
   "version": "3.6.5"
  }
 },
 "nbformat": 4,
 "nbformat_minor": 2
}
